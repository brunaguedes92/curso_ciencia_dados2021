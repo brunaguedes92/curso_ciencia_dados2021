{
  "nbformat": 4,
  "nbformat_minor": 0,
  "metadata": {
    "celltoolbar": "Create Assignment",
    "kernelspec": {
      "display_name": "Python 3",
      "language": "python",
      "name": "python3"
    },
    "language_info": {
      "codemirror_mode": {
        "name": "ipython",
        "version": 3
      },
      "file_extension": ".py",
      "mimetype": "text/x-python",
      "name": "python",
      "nbconvert_exporter": "python",
      "pygments_lexer": "ipython3",
      "version": "3.8.3"
    },
    "colab": {
      "name": "TrabalhoFinal.ipynb",
      "provenance": [],
      "collapsed_sections": [],
      "include_colab_link": true
    }
  },
  "cells": [
    {
      "cell_type": "markdown",
      "metadata": {
        "id": "view-in-github",
        "colab_type": "text"
      },
      "source": [
        "<a href=\"https://colab.research.google.com/github/brunaguedes92/curso_ciencia_dados2021/blob/master/TrabalhoFinal.ipynb\" target=\"_parent\"><img src=\"https://colab.research.google.com/assets/colab-badge.svg\" alt=\"Open In Colab\"/></a>"
      ]
    },
    {
      "cell_type": "markdown",
      "metadata": {
        "id": "tV-L-0OPxDtg"
      },
      "source": [
        "## Trabalho Final - Ciência de Dados - Enap / 2021"
      ]
    },
    {
      "cell_type": "markdown",
      "metadata": {
        "id": "jxt46YHgxDtn"
      },
      "source": [
        "### Apresentação do Dataset"
      ]
    },
    {
      "cell_type": "code",
      "metadata": {
        "nbgrader": {
          "grade": true,
          "grade_id": "cell-747db8f94c086679",
          "locked": false,
          "points": 1,
          "schema_version": 3,
          "solution": true,
          "task": false
        },
        "id": "mZmkW1WQxDtn"
      },
      "source": [
        "IMDb é o site de filmes mais popular e combina a descrição do enredo do filme, avaliações e análises de críticos e usuários, datas de lançamento e muitos outros aspectos.\n",
        "\n",
        "Utilizarei dois conjuntos de dados nesse estudo: \n",
        "\n",
        "O conjunto de dados de filmes(movies) inclui 85.855 filmes com atributos como descrição do filme, avaliação média, número de votos, gênero, etc.\n",
        "\n",
        "O conjunto de dados de classificações(ratings) inclui 85.855 detalhes de classificação do ponto de vista demográfico."
      ],
      "execution_count": null,
      "outputs": []
    },
    {
      "cell_type": "markdown",
      "metadata": {
        "id": "amrkOl0PxDto"
      },
      "source": [
        "#### Link para Download do Dataset"
      ]
    },
    {
      "cell_type": "code",
      "metadata": {
        "id": "J-y2u-M2xDto"
      },
      "source": [
        "https://www.kaggle.com/stefanoleone992/imdb-extensive-dataset"
      ],
      "execution_count": null,
      "outputs": []
    },
    {
      "cell_type": "markdown",
      "metadata": {
        "id": "vk3PATjCxDtp"
      },
      "source": [
        "### Motivação Pessoal"
      ]
    },
    {
      "cell_type": "code",
      "metadata": {
        "nbgrader": {
          "grade": true,
          "grade_id": "cell-78e97c9cbf087543",
          "locked": false,
          "points": 1,
          "schema_version": 3,
          "solution": true,
          "task": false
        },
        "id": "ovzNxUU_xDtp"
      },
      "source": [
        "Descobrir filmes que eu possa gostar, baseado nas investigações de avaliações e características, e ter momentos de lazer em casa no isolamento social."
      ],
      "execution_count": null,
      "outputs": []
    },
    {
      "cell_type": "markdown",
      "metadata": {
        "id": "EE-kpJRSxDtp"
      },
      "source": [
        "### Investigação"
      ]
    },
    {
      "cell_type": "code",
      "metadata": {
        "nbgrader": {
          "grade": true,
          "grade_id": "cell-4727d55417ba9b09",
          "locked": false,
          "points": 1,
          "schema_version": 3,
          "solution": true,
          "task": false
        },
        "id": "5bpoT-fcxDtq"
      },
      "source": [
        "import pandas as pd\n",
        "import numpy as np\n",
        "import matplotlib.pyplot as plt # Biblioteca para plotar gráficos\n",
        "import seaborn as sns # Biblioteca para plotar gráficos baseada no matplotlib"
      ],
      "execution_count": 4,
      "outputs": []
    },
    {
      "cell_type": "markdown",
      "metadata": {
        "id": "w5zlLmuzGhp5"
      },
      "source": [
        "Dados de filmes"
      ]
    },
    {
      "cell_type": "code",
      "metadata": {
        "colab": {
          "base_uri": "https://localhost:8080/",
          "height": 335
        },
        "id": "bO_uFtHxxDtq",
        "outputId": "116871df-ec4a-47d3-a5c4-280391a204ae"
      },
      "source": [
        "\n",
        "df_movies = pd.read_csv('https://raw.githubusercontent.com/brunaguedes92/curso_ciencia_dados2021/master/data/originais/imdb/IMDb_movies.csv', encoding='UTF-8')\n",
        "df_movies.head(2)\n"
      ],
      "execution_count": 5,
      "outputs": [
        {
          "output_type": "stream",
          "text": [
            "/usr/local/lib/python3.7/dist-packages/IPython/core/interactiveshell.py:2718: DtypeWarning: Columns (3) have mixed types.Specify dtype option on import or set low_memory=False.\n",
            "  interactivity=interactivity, compiler=compiler, result=result)\n"
          ],
          "name": "stderr"
        },
        {
          "output_type": "execute_result",
          "data": {
            "text/html": [
              "<div>\n",
              "<style scoped>\n",
              "    .dataframe tbody tr th:only-of-type {\n",
              "        vertical-align: middle;\n",
              "    }\n",
              "\n",
              "    .dataframe tbody tr th {\n",
              "        vertical-align: top;\n",
              "    }\n",
              "\n",
              "    .dataframe thead th {\n",
              "        text-align: right;\n",
              "    }\n",
              "</style>\n",
              "<table border=\"1\" class=\"dataframe\">\n",
              "  <thead>\n",
              "    <tr style=\"text-align: right;\">\n",
              "      <th></th>\n",
              "      <th>imdb_title_id</th>\n",
              "      <th>title</th>\n",
              "      <th>original_title</th>\n",
              "      <th>year</th>\n",
              "      <th>date_published</th>\n",
              "      <th>genre</th>\n",
              "      <th>duration</th>\n",
              "      <th>country</th>\n",
              "      <th>language</th>\n",
              "      <th>director</th>\n",
              "      <th>writer</th>\n",
              "      <th>production_company</th>\n",
              "      <th>actors</th>\n",
              "      <th>description</th>\n",
              "      <th>avg_vote</th>\n",
              "      <th>votes</th>\n",
              "      <th>budget</th>\n",
              "      <th>usa_gross_income</th>\n",
              "      <th>worlwide_gross_income</th>\n",
              "      <th>metascore</th>\n",
              "      <th>reviews_from_users</th>\n",
              "      <th>reviews_from_critics</th>\n",
              "    </tr>\n",
              "  </thead>\n",
              "  <tbody>\n",
              "    <tr>\n",
              "      <th>0</th>\n",
              "      <td>tt0000009</td>\n",
              "      <td>Miss Jerry</td>\n",
              "      <td>Miss Jerry</td>\n",
              "      <td>1894</td>\n",
              "      <td>1894-10-09</td>\n",
              "      <td>Romance</td>\n",
              "      <td>45</td>\n",
              "      <td>USA</td>\n",
              "      <td>None</td>\n",
              "      <td>Alexander Black</td>\n",
              "      <td>Alexander Black</td>\n",
              "      <td>Alexander Black Photoplays</td>\n",
              "      <td>Blanche Bayliss, William Courtenay, Chauncey D...</td>\n",
              "      <td>The adventures of a female reporter in the 1890s.</td>\n",
              "      <td>5.9</td>\n",
              "      <td>154</td>\n",
              "      <td>NaN</td>\n",
              "      <td>NaN</td>\n",
              "      <td>NaN</td>\n",
              "      <td>NaN</td>\n",
              "      <td>1.0</td>\n",
              "      <td>2.0</td>\n",
              "    </tr>\n",
              "    <tr>\n",
              "      <th>1</th>\n",
              "      <td>tt0000574</td>\n",
              "      <td>The Story of the Kelly Gang</td>\n",
              "      <td>The Story of the Kelly Gang</td>\n",
              "      <td>1906</td>\n",
              "      <td>1906-12-26</td>\n",
              "      <td>Biography, Crime, Drama</td>\n",
              "      <td>70</td>\n",
              "      <td>Australia</td>\n",
              "      <td>None</td>\n",
              "      <td>Charles Tait</td>\n",
              "      <td>Charles Tait</td>\n",
              "      <td>J. and N. Tait</td>\n",
              "      <td>Elizabeth Tait, John Tait, Norman Campbell, Be...</td>\n",
              "      <td>True story of notorious Australian outlaw Ned ...</td>\n",
              "      <td>6.1</td>\n",
              "      <td>589</td>\n",
              "      <td>$ 2250</td>\n",
              "      <td>NaN</td>\n",
              "      <td>NaN</td>\n",
              "      <td>NaN</td>\n",
              "      <td>7.0</td>\n",
              "      <td>7.0</td>\n",
              "    </tr>\n",
              "  </tbody>\n",
              "</table>\n",
              "</div>"
            ],
            "text/plain": [
              "  imdb_title_id  ... reviews_from_critics\n",
              "0     tt0000009  ...                  2.0\n",
              "1     tt0000574  ...                  7.0\n",
              "\n",
              "[2 rows x 22 columns]"
            ]
          },
          "metadata": {
            "tags": []
          },
          "execution_count": 5
        }
      ]
    },
    {
      "cell_type": "markdown",
      "metadata": {
        "id": "MywjDfm7Go9Q"
      },
      "source": [
        "Dados de Avaliação"
      ]
    },
    {
      "cell_type": "code",
      "metadata": {
        "id": "rAmDzcs8xDtq",
        "colab": {
          "base_uri": "https://localhost:8080/",
          "height": 131
        },
        "outputId": "6c52615e-31ba-405f-8534-3385be33e7bd"
      },
      "source": [
        "df_ratings = pd.read_csv('https://raw.githubusercontent.com/brunaguedes92/curso_ciencia_dados2021/master/data/originais/imdb/IMDb_ratings.csv', encoding='UTF-8')\n",
        "df_ratings.head(2)\n"
      ],
      "execution_count": 6,
      "outputs": [
        {
          "output_type": "execute_result",
          "data": {
            "text/html": [
              "<div>\n",
              "<style scoped>\n",
              "    .dataframe tbody tr th:only-of-type {\n",
              "        vertical-align: middle;\n",
              "    }\n",
              "\n",
              "    .dataframe tbody tr th {\n",
              "        vertical-align: top;\n",
              "    }\n",
              "\n",
              "    .dataframe thead th {\n",
              "        text-align: right;\n",
              "    }\n",
              "</style>\n",
              "<table border=\"1\" class=\"dataframe\">\n",
              "  <thead>\n",
              "    <tr style=\"text-align: right;\">\n",
              "      <th></th>\n",
              "      <th>imdb_title_id</th>\n",
              "      <th>weighted_average_vote</th>\n",
              "      <th>total_votes</th>\n",
              "      <th>mean_vote</th>\n",
              "      <th>median_vote</th>\n",
              "      <th>votes_10</th>\n",
              "      <th>votes_9</th>\n",
              "      <th>votes_8</th>\n",
              "      <th>votes_7</th>\n",
              "      <th>votes_6</th>\n",
              "      <th>votes_5</th>\n",
              "      <th>votes_4</th>\n",
              "      <th>votes_3</th>\n",
              "      <th>votes_2</th>\n",
              "      <th>votes_1</th>\n",
              "      <th>allgenders_0age_avg_vote</th>\n",
              "      <th>allgenders_0age_votes</th>\n",
              "      <th>allgenders_18age_avg_vote</th>\n",
              "      <th>allgenders_18age_votes</th>\n",
              "      <th>allgenders_30age_avg_vote</th>\n",
              "      <th>allgenders_30age_votes</th>\n",
              "      <th>allgenders_45age_avg_vote</th>\n",
              "      <th>allgenders_45age_votes</th>\n",
              "      <th>males_allages_avg_vote</th>\n",
              "      <th>males_allages_votes</th>\n",
              "      <th>males_0age_avg_vote</th>\n",
              "      <th>males_0age_votes</th>\n",
              "      <th>males_18age_avg_vote</th>\n",
              "      <th>males_18age_votes</th>\n",
              "      <th>males_30age_avg_vote</th>\n",
              "      <th>males_30age_votes</th>\n",
              "      <th>males_45age_avg_vote</th>\n",
              "      <th>males_45age_votes</th>\n",
              "      <th>females_allages_avg_vote</th>\n",
              "      <th>females_allages_votes</th>\n",
              "      <th>females_0age_avg_vote</th>\n",
              "      <th>females_0age_votes</th>\n",
              "      <th>females_18age_avg_vote</th>\n",
              "      <th>females_18age_votes</th>\n",
              "      <th>females_30age_avg_vote</th>\n",
              "      <th>females_30age_votes</th>\n",
              "      <th>females_45age_avg_vote</th>\n",
              "      <th>females_45age_votes</th>\n",
              "      <th>top1000_voters_rating</th>\n",
              "      <th>top1000_voters_votes</th>\n",
              "      <th>us_voters_rating</th>\n",
              "      <th>us_voters_votes</th>\n",
              "      <th>non_us_voters_rating</th>\n",
              "      <th>non_us_voters_votes</th>\n",
              "    </tr>\n",
              "  </thead>\n",
              "  <tbody>\n",
              "    <tr>\n",
              "      <th>0</th>\n",
              "      <td>tt0000009</td>\n",
              "      <td>5.9</td>\n",
              "      <td>154</td>\n",
              "      <td>5.9</td>\n",
              "      <td>6.0</td>\n",
              "      <td>12</td>\n",
              "      <td>4</td>\n",
              "      <td>10</td>\n",
              "      <td>43</td>\n",
              "      <td>28</td>\n",
              "      <td>28</td>\n",
              "      <td>9</td>\n",
              "      <td>1</td>\n",
              "      <td>5</td>\n",
              "      <td>14</td>\n",
              "      <td>7.2</td>\n",
              "      <td>4.0</td>\n",
              "      <td>6.0</td>\n",
              "      <td>38.0</td>\n",
              "      <td>5.7</td>\n",
              "      <td>50.0</td>\n",
              "      <td>6.6</td>\n",
              "      <td>35.0</td>\n",
              "      <td>6.2</td>\n",
              "      <td>97.0</td>\n",
              "      <td>7.0</td>\n",
              "      <td>1.0</td>\n",
              "      <td>5.9</td>\n",
              "      <td>24.0</td>\n",
              "      <td>5.6</td>\n",
              "      <td>36.0</td>\n",
              "      <td>6.7</td>\n",
              "      <td>31.0</td>\n",
              "      <td>6.0</td>\n",
              "      <td>35.0</td>\n",
              "      <td>7.3</td>\n",
              "      <td>3.0</td>\n",
              "      <td>5.9</td>\n",
              "      <td>14.0</td>\n",
              "      <td>5.7</td>\n",
              "      <td>13.0</td>\n",
              "      <td>4.5</td>\n",
              "      <td>4.0</td>\n",
              "      <td>5.7</td>\n",
              "      <td>34.0</td>\n",
              "      <td>6.4</td>\n",
              "      <td>51.0</td>\n",
              "      <td>6.0</td>\n",
              "      <td>70.0</td>\n",
              "    </tr>\n",
              "    <tr>\n",
              "      <th>1</th>\n",
              "      <td>tt0000574</td>\n",
              "      <td>6.1</td>\n",
              "      <td>589</td>\n",
              "      <td>6.3</td>\n",
              "      <td>6.0</td>\n",
              "      <td>57</td>\n",
              "      <td>18</td>\n",
              "      <td>58</td>\n",
              "      <td>137</td>\n",
              "      <td>139</td>\n",
              "      <td>103</td>\n",
              "      <td>28</td>\n",
              "      <td>20</td>\n",
              "      <td>13</td>\n",
              "      <td>16</td>\n",
              "      <td>6.0</td>\n",
              "      <td>1.0</td>\n",
              "      <td>6.1</td>\n",
              "      <td>114.0</td>\n",
              "      <td>6.0</td>\n",
              "      <td>239.0</td>\n",
              "      <td>6.3</td>\n",
              "      <td>115.0</td>\n",
              "      <td>6.1</td>\n",
              "      <td>425.0</td>\n",
              "      <td>6.0</td>\n",
              "      <td>1.0</td>\n",
              "      <td>6.2</td>\n",
              "      <td>102.0</td>\n",
              "      <td>6.0</td>\n",
              "      <td>210.0</td>\n",
              "      <td>6.2</td>\n",
              "      <td>100.0</td>\n",
              "      <td>6.2</td>\n",
              "      <td>50.0</td>\n",
              "      <td>NaN</td>\n",
              "      <td>NaN</td>\n",
              "      <td>5.9</td>\n",
              "      <td>12.0</td>\n",
              "      <td>6.2</td>\n",
              "      <td>23.0</td>\n",
              "      <td>6.6</td>\n",
              "      <td>14.0</td>\n",
              "      <td>6.4</td>\n",
              "      <td>66.0</td>\n",
              "      <td>6.0</td>\n",
              "      <td>96.0</td>\n",
              "      <td>6.2</td>\n",
              "      <td>331.0</td>\n",
              "    </tr>\n",
              "  </tbody>\n",
              "</table>\n",
              "</div>"
            ],
            "text/plain": [
              "  imdb_title_id  ...  non_us_voters_votes\n",
              "0     tt0000009  ...                 70.0\n",
              "1     tt0000574  ...                331.0\n",
              "\n",
              "[2 rows x 49 columns]"
            ]
          },
          "metadata": {
            "tags": []
          },
          "execution_count": 6
        }
      ]
    },
    {
      "cell_type": "markdown",
      "metadata": {
        "id": "eWysw4MZG6Ef"
      },
      "source": [
        "Merge das duas bases"
      ]
    },
    {
      "cell_type": "code",
      "metadata": {
        "id": "ripzoUcuG7eb"
      },
      "source": [
        "df_movies_ratings = pd.merge(df_movies, df_ratings, on=['imdb_title_id'])"
      ],
      "execution_count": 7,
      "outputs": []
    },
    {
      "cell_type": "markdown",
      "metadata": {
        "id": "6O38qTk-BAec"
      },
      "source": [
        "**Quais são os top 5 filmes para mulheres de 30 anos?**\n"
      ]
    },
    {
      "cell_type": "code",
      "metadata": {
        "id": "t_JgHU_Je4aR",
        "colab": {
          "base_uri": "https://localhost:8080/",
          "height": 204
        },
        "outputId": "9f10e8d0-4fbc-40dc-cb70-6950e300ba70"
      },
      "source": [
        "top_filmes = df_movies_ratings[['original_title', 'total_votes', 'females_30age_avg_vote', 'avg_vote', 'males_30age_avg_vote']].sort_values(ascending=False, by=['females_30age_avg_vote', 'avg_vote'])\n",
        "top_filmes.head(5)"
      ],
      "execution_count": 8,
      "outputs": [
        {
          "output_type": "execute_result",
          "data": {
            "text/html": [
              "<div>\n",
              "<style scoped>\n",
              "    .dataframe tbody tr th:only-of-type {\n",
              "        vertical-align: middle;\n",
              "    }\n",
              "\n",
              "    .dataframe tbody tr th {\n",
              "        vertical-align: top;\n",
              "    }\n",
              "\n",
              "    .dataframe thead th {\n",
              "        text-align: right;\n",
              "    }\n",
              "</style>\n",
              "<table border=\"1\" class=\"dataframe\">\n",
              "  <thead>\n",
              "    <tr style=\"text-align: right;\">\n",
              "      <th></th>\n",
              "      <th>original_title</th>\n",
              "      <th>total_votes</th>\n",
              "      <th>females_30age_avg_vote</th>\n",
              "      <th>avg_vote</th>\n",
              "      <th>males_30age_avg_vote</th>\n",
              "    </tr>\n",
              "  </thead>\n",
              "  <tbody>\n",
              "    <tr>\n",
              "      <th>55310</th>\n",
              "      <td>Jeeudo</td>\n",
              "      <td>130</td>\n",
              "      <td>10.0</td>\n",
              "      <td>9.8</td>\n",
              "      <td>10.0</td>\n",
              "    </tr>\n",
              "    <tr>\n",
              "      <th>54835</th>\n",
              "      <td>Orbius</td>\n",
              "      <td>225</td>\n",
              "      <td>10.0</td>\n",
              "      <td>9.3</td>\n",
              "      <td>7.8</td>\n",
              "    </tr>\n",
              "    <tr>\n",
              "      <th>79258</th>\n",
              "      <td>The Transcendents</td>\n",
              "      <td>1450</td>\n",
              "      <td>10.0</td>\n",
              "      <td>9.2</td>\n",
              "      <td>6.7</td>\n",
              "    </tr>\n",
              "    <tr>\n",
              "      <th>52303</th>\n",
              "      <td>Precure Miracle Universe Movie</td>\n",
              "      <td>110</td>\n",
              "      <td>10.0</td>\n",
              "      <td>9.0</td>\n",
              "      <td>4.2</td>\n",
              "    </tr>\n",
              "    <tr>\n",
              "      <th>54446</th>\n",
              "      <td>Breakout</td>\n",
              "      <td>165</td>\n",
              "      <td>10.0</td>\n",
              "      <td>9.0</td>\n",
              "      <td>6.1</td>\n",
              "    </tr>\n",
              "  </tbody>\n",
              "</table>\n",
              "</div>"
            ],
            "text/plain": [
              "                       original_title  ...  males_30age_avg_vote\n",
              "55310                          Jeeudo  ...                  10.0\n",
              "54835                          Orbius  ...                   7.8\n",
              "79258               The Transcendents  ...                   6.7\n",
              "52303  Precure Miracle Universe Movie  ...                   4.2\n",
              "54446                        Breakout  ...                   6.1\n",
              "\n",
              "[5 rows x 5 columns]"
            ]
          },
          "metadata": {
            "tags": []
          },
          "execution_count": 8
        }
      ]
    },
    {
      "cell_type": "markdown",
      "metadata": {
        "id": "iF_1yVvNBdIF"
      },
      "source": [
        "Os filmes acima tem avaliações boas, mas poucos votos. Seguindo as dicas dos professores do curso de Ciência de Dados, resolvi pesquisar novamente com um filtro de mais de 500.000 votos para ter dicas mais confiáveis."
      ]
    },
    {
      "cell_type": "code",
      "metadata": {
        "colab": {
          "base_uri": "https://localhost:8080/",
          "height": 204
        },
        "id": "FfHy2uIpdBM2",
        "outputId": "ac5bebf0-678b-44d0-8f03-408ebb14e465"
      },
      "source": [
        "top_5_movies = top_filmes[top_filmes['total_votes'] > 500000].head(5)\n",
        "top_5_movies"
      ],
      "execution_count": 9,
      "outputs": [
        {
          "output_type": "execute_result",
          "data": {
            "text/html": [
              "<div>\n",
              "<style scoped>\n",
              "    .dataframe tbody tr th:only-of-type {\n",
              "        vertical-align: middle;\n",
              "    }\n",
              "\n",
              "    .dataframe tbody tr th {\n",
              "        vertical-align: top;\n",
              "    }\n",
              "\n",
              "    .dataframe thead th {\n",
              "        text-align: right;\n",
              "    }\n",
              "</style>\n",
              "<table border=\"1\" class=\"dataframe\">\n",
              "  <thead>\n",
              "    <tr style=\"text-align: right;\">\n",
              "      <th></th>\n",
              "      <th>original_title</th>\n",
              "      <th>total_votes</th>\n",
              "      <th>females_30age_avg_vote</th>\n",
              "      <th>avg_vote</th>\n",
              "      <th>males_30age_avg_vote</th>\n",
              "    </tr>\n",
              "  </thead>\n",
              "  <tbody>\n",
              "    <tr>\n",
              "      <th>28453</th>\n",
              "      <td>The Shawshank Redemption</td>\n",
              "      <td>2278845</td>\n",
              "      <td>9.2</td>\n",
              "      <td>9.3</td>\n",
              "      <td>9.3</td>\n",
              "    </tr>\n",
              "    <tr>\n",
              "      <th>15528</th>\n",
              "      <td>The Godfather</td>\n",
              "      <td>1572674</td>\n",
              "      <td>8.9</td>\n",
              "      <td>9.2</td>\n",
              "      <td>9.2</td>\n",
              "    </tr>\n",
              "    <tr>\n",
              "      <th>27629</th>\n",
              "      <td>Schindler's List</td>\n",
              "      <td>1183248</td>\n",
              "      <td>8.9</td>\n",
              "      <td>8.9</td>\n",
              "      <td>8.9</td>\n",
              "    </tr>\n",
              "    <tr>\n",
              "      <th>8973</th>\n",
              "      <td>12 Angry Men</td>\n",
              "      <td>668473</td>\n",
              "      <td>8.8</td>\n",
              "      <td>8.9</td>\n",
              "      <td>8.9</td>\n",
              "    </tr>\n",
              "    <tr>\n",
              "      <th>34127</th>\n",
              "      <td>The Lord of the Rings: The Return of the King</td>\n",
              "      <td>1604280</td>\n",
              "      <td>8.8</td>\n",
              "      <td>8.9</td>\n",
              "      <td>8.8</td>\n",
              "    </tr>\n",
              "  </tbody>\n",
              "</table>\n",
              "</div>"
            ],
            "text/plain": [
              "                                      original_title  ...  males_30age_avg_vote\n",
              "28453                       The Shawshank Redemption  ...                   9.3\n",
              "15528                                  The Godfather  ...                   9.2\n",
              "27629                               Schindler's List  ...                   8.9\n",
              "8973                                    12 Angry Men  ...                   8.9\n",
              "34127  The Lord of the Rings: The Return of the King  ...                   8.8\n",
              "\n",
              "[5 rows x 5 columns]"
            ]
          },
          "metadata": {
            "tags": []
          },
          "execution_count": 9
        }
      ]
    },
    {
      "cell_type": "code",
      "metadata": {
        "colab": {
          "base_uri": "https://localhost:8080/",
          "height": 296
        },
        "id": "3r0qDujGS5O6",
        "outputId": "ff3054c9-dff4-4ce9-fcf2-a133f7469910"
      },
      "source": [
        "g = sns.barplot(data=top_5_movies, x='females_30age_avg_vote', y='original_title', orient=\"h\")\n",
        "g.set(xlabel='Nota Média - Mulheres 30 anos', ylabel='Título')"
      ],
      "execution_count": 62,
      "outputs": [
        {
          "output_type": "execute_result",
          "data": {
            "text/plain": [
              "[Text(0, 0.5, 'Título'), Text(0.5, 0, 'Nota Média - Mulheres 30 anos')]"
            ]
          },
          "metadata": {
            "tags": []
          },
          "execution_count": 62
        },
        {
          "output_type": "display_data",
          "data": {
            "image/png": "[encoded data removed]",
            "text/plain": [
              "<Figure size 432x288 with 1 Axes>"
            ]
          },
          "metadata": {
            "tags": [],
            "needs_background": "light"
          }
        }
      ]
    },
    {
      "cell_type": "markdown",
      "metadata": {
        "id": "2FnU8QFBGv4U"
      },
      "source": [
        "**The Shawshank Redemption**\n",
        "Parece ser um filme interessante. \n",
        "Como pretendo ver um filme com meu marido também, vou ver a correlação de avaliação de filmes de mulheres e homens de 30 anos."
      ]
    },
    {
      "cell_type": "code",
      "metadata": {
        "colab": {
          "base_uri": "https://localhost:8080/",
          "height": 111
        },
        "id": "myAMorh9YFWh",
        "outputId": "6d9f20c2-7672-41ff-809d-606c74c5d50b"
      },
      "source": [
        "df_movies_ratings[['females_30age_avg_vote', 'males_30age_avg_vote']].corr()"
      ],
      "execution_count": 11,
      "outputs": [
        {
          "output_type": "execute_result",
          "data": {
            "text/html": [
              "<div>\n",
              "<style scoped>\n",
              "    .dataframe tbody tr th:only-of-type {\n",
              "        vertical-align: middle;\n",
              "    }\n",
              "\n",
              "    .dataframe tbody tr th {\n",
              "        vertical-align: top;\n",
              "    }\n",
              "\n",
              "    .dataframe thead th {\n",
              "        text-align: right;\n",
              "    }\n",
              "</style>\n",
              "<table border=\"1\" class=\"dataframe\">\n",
              "  <thead>\n",
              "    <tr style=\"text-align: right;\">\n",
              "      <th></th>\n",
              "      <th>females_30age_avg_vote</th>\n",
              "      <th>males_30age_avg_vote</th>\n",
              "    </tr>\n",
              "  </thead>\n",
              "  <tbody>\n",
              "    <tr>\n",
              "      <th>females_30age_avg_vote</th>\n",
              "      <td>1.00000</td>\n",
              "      <td>0.74744</td>\n",
              "    </tr>\n",
              "    <tr>\n",
              "      <th>males_30age_avg_vote</th>\n",
              "      <td>0.74744</td>\n",
              "      <td>1.00000</td>\n",
              "    </tr>\n",
              "  </tbody>\n",
              "</table>\n",
              "</div>"
            ],
            "text/plain": [
              "                        females_30age_avg_vote  males_30age_avg_vote\n",
              "females_30age_avg_vote                 1.00000               0.74744\n",
              "males_30age_avg_vote                   0.74744               1.00000"
            ]
          },
          "metadata": {
            "tags": []
          },
          "execution_count": 11
        }
      ]
    },
    {
      "cell_type": "code",
      "metadata": {
        "colab": {
          "base_uri": "https://localhost:8080/",
          "height": 287
        },
        "id": "f8dvoPlPTDA6",
        "outputId": "369bd107-7eb1-4b9b-fcc7-703b2992e0e0"
      },
      "source": [
        "sns.heatmap(df_movies_ratings[['females_30age_avg_vote', 'males_30age_avg_vote']].corr(), annot=True)"
      ],
      "execution_count": 78,
      "outputs": [
        {
          "output_type": "execute_result",
          "data": {
            "text/plain": [
              "<matplotlib.axes._subplots.AxesSubplot at 0x7f961452f5d0>"
            ]
          },
          "metadata": {
            "tags": []
          },
          "execution_count": 78
        },
        {
          "output_type": "display_data",
          "data": {
            "image/png": "[encoded data removed]",
            "text/plain": [
              "<Figure size 432x288 with 2 Axes>"
            ]
          },
          "metadata": {
            "tags": [],
            "needs_background": "light"
          }
        }
      ]
    },
    {
      "cell_type": "markdown",
      "metadata": {
        "id": "YFvwe2eHMbWq"
      },
      "source": [
        "Parece que as avaliações de homens e mulheres de 30 anos tem uma correlação forte, pois o coeficiente é maior que 0,7.\n",
        "\n",
        "Agora vou ver quais são os top 5 filmes para homens de 30 anos, novamente com o filtro de mais de 500 mil votos"
      ]
    },
    {
      "cell_type": "code",
      "metadata": {
        "colab": {
          "base_uri": "https://localhost:8080/",
          "height": 296
        },
        "id": "nSq_ona4MYi2",
        "outputId": "96406f88-5f56-402e-9f1a-1b4f98acc592"
      },
      "source": [
        "top_filmes_m = df_movies_ratings[['original_title', 'total_votes', 'males_30age_avg_vote', 'avg_vote']].sort_values(ascending=False, by=['males_30age_avg_vote', 'avg_vote'])\n",
        "top_5_movies_m = top_filmes_m[top_filmes_m['total_votes'] > 500000].head(5)\n",
        "h = sns.barplot(data=top_5_movies_m, x='males_30age_avg_vote', y='original_title', orient=\"h\")\n",
        "h.set(xlabel='Nota Média - Homens 30 anos', ylabel='Título')"
      ],
      "execution_count": 64,
      "outputs": [
        {
          "output_type": "execute_result",
          "data": {
            "text/plain": [
              "[Text(0, 0.5, 'Título'), Text(0.5, 0, 'Nota Média - Homens 30 anos')]"
            ]
          },
          "metadata": {
            "tags": []
          },
          "execution_count": 64
        },
        {
          "output_type": "display_data",
          "data": {
            "image/png": "[encoded data removed]",
            "text/plain": [
              "<Figure size 432x288 with 1 Axes>"
            ]
          },
          "metadata": {
            "tags": [],
            "needs_background": "light"
          }
        }
      ]
    },
    {
      "cell_type": "markdown",
      "metadata": {
        "id": "4aWhh5vfO9rP"
      },
      "source": [
        "Novamente o filme **The Shawshank Redemption** aparece em primeiro lugar. **The Godfather** também aparece no outro top 5. \n",
        "\n",
        "Agora eu quero ver a distribuição de votos (1 - 10) que **The Shawshank Redemption** teve."
      ]
    },
    {
      "cell_type": "code",
      "metadata": {
        "colab": {
          "base_uri": "https://localhost:8080/",
          "height": 202
        },
        "id": "RJsl8lFGPqmJ",
        "outputId": "f7d79b60-3fb3-4e97-a590-cf3fe9e29e97"
      },
      "source": [
        "df_movies_ratings[df_movies_ratings['original_title'] == 'The Shawshank Redemption']"
      ],
      "execution_count": 16,
      "outputs": [
        {
          "output_type": "execute_result",
          "data": {
            "text/html": [
              "<div>\n",
              "<style scoped>\n",
              "    .dataframe tbody tr th:only-of-type {\n",
              "        vertical-align: middle;\n",
              "    }\n",
              "\n",
              "    .dataframe tbody tr th {\n",
              "        vertical-align: top;\n",
              "    }\n",
              "\n",
              "    .dataframe thead th {\n",
              "        text-align: right;\n",
              "    }\n",
              "</style>\n",
              "<table border=\"1\" class=\"dataframe\">\n",
              "  <thead>\n",
              "    <tr style=\"text-align: right;\">\n",
              "      <th></th>\n",
              "      <th>imdb_title_id</th>\n",
              "      <th>title</th>\n",
              "      <th>original_title</th>\n",
              "      <th>year</th>\n",
              "      <th>date_published</th>\n",
              "      <th>genre</th>\n",
              "      <th>duration</th>\n",
              "      <th>country</th>\n",
              "      <th>language</th>\n",
              "      <th>director</th>\n",
              "      <th>writer</th>\n",
              "      <th>production_company</th>\n",
              "      <th>actors</th>\n",
              "      <th>description</th>\n",
              "      <th>avg_vote</th>\n",
              "      <th>votes</th>\n",
              "      <th>budget</th>\n",
              "      <th>usa_gross_income</th>\n",
              "      <th>worlwide_gross_income</th>\n",
              "      <th>metascore</th>\n",
              "      <th>reviews_from_users</th>\n",
              "      <th>reviews_from_critics</th>\n",
              "      <th>weighted_average_vote</th>\n",
              "      <th>total_votes</th>\n",
              "      <th>mean_vote</th>\n",
              "      <th>median_vote</th>\n",
              "      <th>votes_10</th>\n",
              "      <th>votes_9</th>\n",
              "      <th>votes_8</th>\n",
              "      <th>votes_7</th>\n",
              "      <th>votes_6</th>\n",
              "      <th>votes_5</th>\n",
              "      <th>votes_4</th>\n",
              "      <th>votes_3</th>\n",
              "      <th>votes_2</th>\n",
              "      <th>votes_1</th>\n",
              "      <th>allgenders_0age_avg_vote</th>\n",
              "      <th>allgenders_0age_votes</th>\n",
              "      <th>allgenders_18age_avg_vote</th>\n",
              "      <th>allgenders_18age_votes</th>\n",
              "      <th>allgenders_30age_avg_vote</th>\n",
              "      <th>allgenders_30age_votes</th>\n",
              "      <th>allgenders_45age_avg_vote</th>\n",
              "      <th>allgenders_45age_votes</th>\n",
              "      <th>males_allages_avg_vote</th>\n",
              "      <th>males_allages_votes</th>\n",
              "      <th>males_0age_avg_vote</th>\n",
              "      <th>males_0age_votes</th>\n",
              "      <th>males_18age_avg_vote</th>\n",
              "      <th>males_18age_votes</th>\n",
              "      <th>males_30age_avg_vote</th>\n",
              "      <th>males_30age_votes</th>\n",
              "      <th>males_45age_avg_vote</th>\n",
              "      <th>males_45age_votes</th>\n",
              "      <th>females_allages_avg_vote</th>\n",
              "      <th>females_allages_votes</th>\n",
              "      <th>females_0age_avg_vote</th>\n",
              "      <th>females_0age_votes</th>\n",
              "      <th>females_18age_avg_vote</th>\n",
              "      <th>females_18age_votes</th>\n",
              "      <th>females_30age_avg_vote</th>\n",
              "      <th>females_30age_votes</th>\n",
              "      <th>females_45age_avg_vote</th>\n",
              "      <th>females_45age_votes</th>\n",
              "      <th>top1000_voters_rating</th>\n",
              "      <th>top1000_voters_votes</th>\n",
              "      <th>us_voters_rating</th>\n",
              "      <th>us_voters_votes</th>\n",
              "      <th>non_us_voters_rating</th>\n",
              "      <th>non_us_voters_votes</th>\n",
              "    </tr>\n",
              "  </thead>\n",
              "  <tbody>\n",
              "    <tr>\n",
              "      <th>28453</th>\n",
              "      <td>tt0111161</td>\n",
              "      <td>Le ali della libertà</td>\n",
              "      <td>The Shawshank Redemption</td>\n",
              "      <td>1994</td>\n",
              "      <td>1995-02-10</td>\n",
              "      <td>Drama</td>\n",
              "      <td>142</td>\n",
              "      <td>USA</td>\n",
              "      <td>English</td>\n",
              "      <td>Frank Darabont</td>\n",
              "      <td>Stephen King, Frank Darabont</td>\n",
              "      <td>Castle Rock Entertainment</td>\n",
              "      <td>Tim Robbins, Morgan Freeman, Bob Gunton, Willi...</td>\n",
              "      <td>Two imprisoned men bond over a number of years...</td>\n",
              "      <td>9.3</td>\n",
              "      <td>2278845</td>\n",
              "      <td>$ 25000000</td>\n",
              "      <td>$ 28699976</td>\n",
              "      <td>$ 28815245</td>\n",
              "      <td>80.0</td>\n",
              "      <td>8232.0</td>\n",
              "      <td>164.0</td>\n",
              "      <td>9.3</td>\n",
              "      <td>2278845</td>\n",
              "      <td>9.1</td>\n",
              "      <td>10.0</td>\n",
              "      <td>1259076</td>\n",
              "      <td>582166</td>\n",
              "      <td>264604</td>\n",
              "      <td>84779</td>\n",
              "      <td>25558</td>\n",
              "      <td>13167</td>\n",
              "      <td>6419</td>\n",
              "      <td>4615</td>\n",
              "      <td>4303</td>\n",
              "      <td>34158</td>\n",
              "      <td>9.3</td>\n",
              "      <td>1898.0</td>\n",
              "      <td>9.3</td>\n",
              "      <td>489526.0</td>\n",
              "      <td>9.3</td>\n",
              "      <td>863727.0</td>\n",
              "      <td>9.1</td>\n",
              "      <td>204278.0</td>\n",
              "      <td>9.3</td>\n",
              "      <td>1392803.0</td>\n",
              "      <td>9.3</td>\n",
              "      <td>1327.0</td>\n",
              "      <td>9.3</td>\n",
              "      <td>389793.0</td>\n",
              "      <td>9.3</td>\n",
              "      <td>721951.0</td>\n",
              "      <td>9.1</td>\n",
              "      <td>165852.0</td>\n",
              "      <td>9.2</td>\n",
              "      <td>274168.0</td>\n",
              "      <td>9.0</td>\n",
              "      <td>267.0</td>\n",
              "      <td>9.2</td>\n",
              "      <td>88528.0</td>\n",
              "      <td>9.2</td>\n",
              "      <td>129249.0</td>\n",
              "      <td>9.2</td>\n",
              "      <td>34317.0</td>\n",
              "      <td>8.9</td>\n",
              "      <td>906.0</td>\n",
              "      <td>9.3</td>\n",
              "      <td>327264.0</td>\n",
              "      <td>9.2</td>\n",
              "      <td>887226.0</td>\n",
              "    </tr>\n",
              "  </tbody>\n",
              "</table>\n",
              "</div>"
            ],
            "text/plain": [
              "      imdb_title_id  ... non_us_voters_votes\n",
              "28453     tt0111161  ...            887226.0\n",
              "\n",
              "[1 rows x 70 columns]"
            ]
          },
          "metadata": {
            "tags": []
          },
          "execution_count": 16
        }
      ]
    },
    {
      "cell_type": "code",
      "metadata": {
        "colab": {
          "base_uri": "https://localhost:8080/",
          "height": 392
        },
        "id": "2yjuQUaITGR7",
        "outputId": "720af953-cab8-4017-ca7d-0f54efde914d"
      },
      "source": [
        "df2 = df_movies_ratings[df_movies_ratings['original_title'] == 'The Shawshank Redemption']\n",
        "df2.rename(columns={\"votes_10\": \"10\", \"votes_9\": \"9\", \"votes_8\": \"8\", \"votes_7\": \"7\", \"votes_6\": \"6\", \"votes_5\": \"5\", \"votes_4\": \"4\", \"votes_3\": \"3\", \"votes_2\": \"2\", \"votes_1\": \"1\" }, inplace=True)\n",
        "df2 = df2[['10', '9', '8', '7', '6', '5', '4', '3', '2', '1']].melt()\n",
        "g2 = sns.barplot(data=df2, x='variable', y='value')\n",
        "g2.set(xlabel=\"Notas\", ylabel=\"Quantidade (Milhões)\")"
      ],
      "execution_count": 76,
      "outputs": [
        {
          "output_type": "stream",
          "text": [
            "/usr/local/lib/python3.7/dist-packages/pandas/core/frame.py:4308: SettingWithCopyWarning: \n",
            "A value is trying to be set on a copy of a slice from a DataFrame\n",
            "\n",
            "See the caveats in the documentation: https://pandas.pydata.org/pandas-docs/stable/user_guide/indexing.html#returning-a-view-versus-a-copy\n",
            "  errors=errors,\n"
          ],
          "name": "stderr"
        },
        {
          "output_type": "execute_result",
          "data": {
            "text/plain": [
              "[Text(0, 0.5, 'Quantidade (Milhões)'), Text(0.5, 0, 'Notas')]"
            ]
          },
          "metadata": {
            "tags": []
          },
          "execution_count": 76
        },
        {
          "output_type": "display_data",
          "data": {
            "image/png": "[encoded data removed]",
            "text/plain": [
              "<Figure size 432x288 with 1 Axes>"
            ]
          },
          "metadata": {
            "tags": [],
            "needs_background": "light"
          }
        }
      ]
    },
    {
      "cell_type": "markdown",
      "metadata": {
        "id": "aEs6oUQE5PBz"
      },
      "source": [
        "**Qual é o gênero de filmes que mulheres 30 anos avaliam melhor?**"
      ]
    },
    {
      "cell_type": "markdown",
      "metadata": {
        "id": "M-RvCnh3Gyqf"
      },
      "source": [
        "\n",
        "\n",
        "Como a coluna gênero tem atributo multivalorado, é necessário fazer uma separação\n"
      ]
    },
    {
      "cell_type": "code",
      "metadata": {
        "id": "AioLrwSU_6wZ"
      },
      "source": [
        " def explode_and_merge(df, col, merge_on='id', split_on=\";\", topn=None):\n",
        "    \"\"\"Transforma um atributo multivalorado em várias linhas de conteúdo atômico,\n",
        "       uma linha pra cada um dos atributos separados por ponto e vírgula\n",
        "    \"\"\"\n",
        "    # Cria um novo dataframe\n",
        "    df_exp = df[[col, merge_on]].assign(**{col: df[col].str.split(split_on)}).explode(col)\n",
        "    df_merged = df_exp.merge(right=df, on=merge_on, how='left', suffixes=[\"\", \"_y\"])\n",
        "    if topn:\n",
        "        sel_topn = df_merged[col].isin(df_merged[col].value_counts().head(topn).index)\n",
        "        df_merged = df_merged[sel_topn]\n",
        "    return df_merged"
      ],
      "execution_count": 28,
      "outputs": []
    },
    {
      "cell_type": "code",
      "metadata": {
        "id": "Yqo5TPg8xDtr",
        "colab": {
          "base_uri": "https://localhost:8080/",
          "height": 301
        },
        "outputId": "9c45839c-c32c-4789-c063-3bf73fa9d21a"
      },
      "source": [
        "df = explode_and_merge(df_movies_ratings, 'genre', 'imdb_title_id', ', ')\n",
        "df.head(2)\n"
      ],
      "execution_count": 36,
      "outputs": [
        {
          "output_type": "execute_result",
          "data": {
            "text/html": [
              "<div>\n",
              "<style scoped>\n",
              "    .dataframe tbody tr th:only-of-type {\n",
              "        vertical-align: middle;\n",
              "    }\n",
              "\n",
              "    .dataframe tbody tr th {\n",
              "        vertical-align: top;\n",
              "    }\n",
              "\n",
              "    .dataframe thead th {\n",
              "        text-align: right;\n",
              "    }\n",
              "</style>\n",
              "<table border=\"1\" class=\"dataframe\">\n",
              "  <thead>\n",
              "    <tr style=\"text-align: right;\">\n",
              "      <th></th>\n",
              "      <th>genre</th>\n",
              "      <th>imdb_title_id</th>\n",
              "      <th>title</th>\n",
              "      <th>original_title</th>\n",
              "      <th>year</th>\n",
              "      <th>date_published</th>\n",
              "      <th>genre_y</th>\n",
              "      <th>duration</th>\n",
              "      <th>country</th>\n",
              "      <th>language</th>\n",
              "      <th>director</th>\n",
              "      <th>writer</th>\n",
              "      <th>production_company</th>\n",
              "      <th>actors</th>\n",
              "      <th>description</th>\n",
              "      <th>avg_vote</th>\n",
              "      <th>votes</th>\n",
              "      <th>budget</th>\n",
              "      <th>usa_gross_income</th>\n",
              "      <th>worlwide_gross_income</th>\n",
              "      <th>metascore</th>\n",
              "      <th>reviews_from_users</th>\n",
              "      <th>reviews_from_critics</th>\n",
              "      <th>weighted_average_vote</th>\n",
              "      <th>total_votes</th>\n",
              "      <th>mean_vote</th>\n",
              "      <th>median_vote</th>\n",
              "      <th>votes_10</th>\n",
              "      <th>votes_9</th>\n",
              "      <th>votes_8</th>\n",
              "      <th>votes_7</th>\n",
              "      <th>votes_6</th>\n",
              "      <th>votes_5</th>\n",
              "      <th>votes_4</th>\n",
              "      <th>votes_3</th>\n",
              "      <th>votes_2</th>\n",
              "      <th>votes_1</th>\n",
              "      <th>allgenders_0age_avg_vote</th>\n",
              "      <th>allgenders_0age_votes</th>\n",
              "      <th>allgenders_18age_avg_vote</th>\n",
              "      <th>allgenders_18age_votes</th>\n",
              "      <th>allgenders_30age_avg_vote</th>\n",
              "      <th>allgenders_30age_votes</th>\n",
              "      <th>allgenders_45age_avg_vote</th>\n",
              "      <th>allgenders_45age_votes</th>\n",
              "      <th>males_allages_avg_vote</th>\n",
              "      <th>males_allages_votes</th>\n",
              "      <th>males_0age_avg_vote</th>\n",
              "      <th>males_0age_votes</th>\n",
              "      <th>males_18age_avg_vote</th>\n",
              "      <th>males_18age_votes</th>\n",
              "      <th>males_30age_avg_vote</th>\n",
              "      <th>males_30age_votes</th>\n",
              "      <th>males_45age_avg_vote</th>\n",
              "      <th>males_45age_votes</th>\n",
              "      <th>females_allages_avg_vote</th>\n",
              "      <th>females_allages_votes</th>\n",
              "      <th>females_0age_avg_vote</th>\n",
              "      <th>females_0age_votes</th>\n",
              "      <th>females_18age_avg_vote</th>\n",
              "      <th>females_18age_votes</th>\n",
              "      <th>females_30age_avg_vote</th>\n",
              "      <th>females_30age_votes</th>\n",
              "      <th>females_45age_avg_vote</th>\n",
              "      <th>females_45age_votes</th>\n",
              "      <th>top1000_voters_rating</th>\n",
              "      <th>top1000_voters_votes</th>\n",
              "      <th>us_voters_rating</th>\n",
              "      <th>us_voters_votes</th>\n",
              "      <th>non_us_voters_rating</th>\n",
              "      <th>non_us_voters_votes</th>\n",
              "    </tr>\n",
              "  </thead>\n",
              "  <tbody>\n",
              "    <tr>\n",
              "      <th>0</th>\n",
              "      <td>Romance</td>\n",
              "      <td>tt0000009</td>\n",
              "      <td>Miss Jerry</td>\n",
              "      <td>Miss Jerry</td>\n",
              "      <td>1894</td>\n",
              "      <td>1894-10-09</td>\n",
              "      <td>Romance</td>\n",
              "      <td>45</td>\n",
              "      <td>USA</td>\n",
              "      <td>None</td>\n",
              "      <td>Alexander Black</td>\n",
              "      <td>Alexander Black</td>\n",
              "      <td>Alexander Black Photoplays</td>\n",
              "      <td>Blanche Bayliss, William Courtenay, Chauncey D...</td>\n",
              "      <td>The adventures of a female reporter in the 1890s.</td>\n",
              "      <td>5.9</td>\n",
              "      <td>154</td>\n",
              "      <td>NaN</td>\n",
              "      <td>NaN</td>\n",
              "      <td>NaN</td>\n",
              "      <td>NaN</td>\n",
              "      <td>1.0</td>\n",
              "      <td>2.0</td>\n",
              "      <td>5.9</td>\n",
              "      <td>154</td>\n",
              "      <td>5.9</td>\n",
              "      <td>6.0</td>\n",
              "      <td>12</td>\n",
              "      <td>4</td>\n",
              "      <td>10</td>\n",
              "      <td>43</td>\n",
              "      <td>28</td>\n",
              "      <td>28</td>\n",
              "      <td>9</td>\n",
              "      <td>1</td>\n",
              "      <td>5</td>\n",
              "      <td>14</td>\n",
              "      <td>7.2</td>\n",
              "      <td>4.0</td>\n",
              "      <td>6.0</td>\n",
              "      <td>38.0</td>\n",
              "      <td>5.7</td>\n",
              "      <td>50.0</td>\n",
              "      <td>6.6</td>\n",
              "      <td>35.0</td>\n",
              "      <td>6.2</td>\n",
              "      <td>97.0</td>\n",
              "      <td>7.0</td>\n",
              "      <td>1.0</td>\n",
              "      <td>5.9</td>\n",
              "      <td>24.0</td>\n",
              "      <td>5.6</td>\n",
              "      <td>36.0</td>\n",
              "      <td>6.7</td>\n",
              "      <td>31.0</td>\n",
              "      <td>6.0</td>\n",
              "      <td>35.0</td>\n",
              "      <td>7.3</td>\n",
              "      <td>3.0</td>\n",
              "      <td>5.9</td>\n",
              "      <td>14.0</td>\n",
              "      <td>5.7</td>\n",
              "      <td>13.0</td>\n",
              "      <td>4.5</td>\n",
              "      <td>4.0</td>\n",
              "      <td>5.7</td>\n",
              "      <td>34.0</td>\n",
              "      <td>6.4</td>\n",
              "      <td>51.0</td>\n",
              "      <td>6.0</td>\n",
              "      <td>70.0</td>\n",
              "    </tr>\n",
              "    <tr>\n",
              "      <th>1</th>\n",
              "      <td>Biography</td>\n",
              "      <td>tt0000574</td>\n",
              "      <td>The Story of the Kelly Gang</td>\n",
              "      <td>The Story of the Kelly Gang</td>\n",
              "      <td>1906</td>\n",
              "      <td>1906-12-26</td>\n",
              "      <td>Biography, Crime, Drama</td>\n",
              "      <td>70</td>\n",
              "      <td>Australia</td>\n",
              "      <td>None</td>\n",
              "      <td>Charles Tait</td>\n",
              "      <td>Charles Tait</td>\n",
              "      <td>J. and N. Tait</td>\n",
              "      <td>Elizabeth Tait, John Tait, Norman Campbell, Be...</td>\n",
              "      <td>True story of notorious Australian outlaw Ned ...</td>\n",
              "      <td>6.1</td>\n",
              "      <td>589</td>\n",
              "      <td>$ 2250</td>\n",
              "      <td>NaN</td>\n",
              "      <td>NaN</td>\n",
              "      <td>NaN</td>\n",
              "      <td>7.0</td>\n",
              "      <td>7.0</td>\n",
              "      <td>6.1</td>\n",
              "      <td>589</td>\n",
              "      <td>6.3</td>\n",
              "      <td>6.0</td>\n",
              "      <td>57</td>\n",
              "      <td>18</td>\n",
              "      <td>58</td>\n",
              "      <td>137</td>\n",
              "      <td>139</td>\n",
              "      <td>103</td>\n",
              "      <td>28</td>\n",
              "      <td>20</td>\n",
              "      <td>13</td>\n",
              "      <td>16</td>\n",
              "      <td>6.0</td>\n",
              "      <td>1.0</td>\n",
              "      <td>6.1</td>\n",
              "      <td>114.0</td>\n",
              "      <td>6.0</td>\n",
              "      <td>239.0</td>\n",
              "      <td>6.3</td>\n",
              "      <td>115.0</td>\n",
              "      <td>6.1</td>\n",
              "      <td>425.0</td>\n",
              "      <td>6.0</td>\n",
              "      <td>1.0</td>\n",
              "      <td>6.2</td>\n",
              "      <td>102.0</td>\n",
              "      <td>6.0</td>\n",
              "      <td>210.0</td>\n",
              "      <td>6.2</td>\n",
              "      <td>100.0</td>\n",
              "      <td>6.2</td>\n",
              "      <td>50.0</td>\n",
              "      <td>NaN</td>\n",
              "      <td>NaN</td>\n",
              "      <td>5.9</td>\n",
              "      <td>12.0</td>\n",
              "      <td>6.2</td>\n",
              "      <td>23.0</td>\n",
              "      <td>6.6</td>\n",
              "      <td>14.0</td>\n",
              "      <td>6.4</td>\n",
              "      <td>66.0</td>\n",
              "      <td>6.0</td>\n",
              "      <td>96.0</td>\n",
              "      <td>6.2</td>\n",
              "      <td>331.0</td>\n",
              "    </tr>\n",
              "  </tbody>\n",
              "</table>\n",
              "</div>"
            ],
            "text/plain": [
              "       genre imdb_title_id  ... non_us_voters_rating non_us_voters_votes\n",
              "0    Romance     tt0000009  ...                  6.0                70.0\n",
              "1  Biography     tt0000574  ...                  6.2               331.0\n",
              "\n",
              "[2 rows x 71 columns]"
            ]
          },
          "metadata": {
            "tags": []
          },
          "execution_count": 36
        }
      ]
    },
    {
      "cell_type": "code",
      "metadata": {
        "id": "04hIsJvOxDtr",
        "colab": {
          "base_uri": "https://localhost:8080/",
          "height": 204
        },
        "outputId": "32746e25-0945-4bf9-9254-da28d45218cf"
      },
      "source": [
        "df_avg_female30 =  df['females_30age_avg_vote'].groupby([df['genre']]).mean().sort_values(ascending=False).head(5).reset_index()\n",
        "df_avg_female30\n"
      ],
      "execution_count": 30,
      "outputs": [
        {
          "output_type": "execute_result",
          "data": {
            "text/html": [
              "<div>\n",
              "<style scoped>\n",
              "    .dataframe tbody tr th:only-of-type {\n",
              "        vertical-align: middle;\n",
              "    }\n",
              "\n",
              "    .dataframe tbody tr th {\n",
              "        vertical-align: top;\n",
              "    }\n",
              "\n",
              "    .dataframe thead th {\n",
              "        text-align: right;\n",
              "    }\n",
              "</style>\n",
              "<table border=\"1\" class=\"dataframe\">\n",
              "  <thead>\n",
              "    <tr style=\"text-align: right;\">\n",
              "      <th></th>\n",
              "      <th>genre</th>\n",
              "      <th>females_30age_avg_vote</th>\n",
              "    </tr>\n",
              "  </thead>\n",
              "  <tbody>\n",
              "    <tr>\n",
              "      <th>0</th>\n",
              "      <td>Documentary</td>\n",
              "      <td>8.450000</td>\n",
              "    </tr>\n",
              "    <tr>\n",
              "      <th>1</th>\n",
              "      <td>Biography</td>\n",
              "      <td>6.720185</td>\n",
              "    </tr>\n",
              "    <tr>\n",
              "      <th>2</th>\n",
              "      <td>Film-Noir</td>\n",
              "      <td>6.676399</td>\n",
              "    </tr>\n",
              "    <tr>\n",
              "      <th>3</th>\n",
              "      <td>History</td>\n",
              "      <td>6.675350</td>\n",
              "    </tr>\n",
              "    <tr>\n",
              "      <th>4</th>\n",
              "      <td>War</td>\n",
              "      <td>6.631876</td>\n",
              "    </tr>\n",
              "  </tbody>\n",
              "</table>\n",
              "</div>"
            ],
            "text/plain": [
              "         genre  females_30age_avg_vote\n",
              "0  Documentary                8.450000\n",
              "1    Biography                6.720185\n",
              "2    Film-Noir                6.676399\n",
              "3      History                6.675350\n",
              "4          War                6.631876"
            ]
          },
          "metadata": {
            "tags": []
          },
          "execution_count": 30
        }
      ]
    },
    {
      "cell_type": "markdown",
      "metadata": {
        "id": "ho5fl9dJ5GZt"
      },
      "source": [
        "Documentário teve maior média de notas e menos 'outliers'\n"
      ]
    },
    {
      "cell_type": "code",
      "metadata": {
        "colab": {
          "base_uri": "https://localhost:8080/",
          "height": 400
        },
        "id": "FyY8L95O4pdR",
        "outputId": "65ddf722-0d01-4b84-c4fc-aad37c1c7ff9"
      },
      "source": [
        "df_female30 = df[df['genre'].isin(df_avg_female30['genre'])]\n",
        "g3 = sns.catplot(data=df_female30, x='genre', y='females_30age_avg_vote', kind='box')\n",
        "g3.set(xlabel=\"Gênero\", ylabel=\"Nota média - Mulheres 30 anos\")"
      ],
      "execution_count": 77,
      "outputs": [
        {
          "output_type": "execute_result",
          "data": {
            "text/plain": [
              "<seaborn.axisgrid.FacetGrid at 0x7f9616511a50>"
            ]
          },
          "metadata": {
            "tags": []
          },
          "execution_count": 77
        },
        {
          "output_type": "display_data",
          "data": {
            "image/png": "[encoded data removed]",
            "text/plain": [
              "<Figure size 360x360 with 1 Axes>"
            ]
          },
          "metadata": {
            "tags": [],
            "needs_background": "light"
          }
        }
      ]
    },
    {
      "cell_type": "markdown",
      "metadata": {
        "id": "pvL1J_8HxDts"
      },
      "source": [
        "### Conclusões e Achados"
      ]
    },
    {
      "cell_type": "markdown",
      "metadata": {
        "id": "jHxb3QVYWehs"
      },
      "source": [
        "Após essa análise, descobri que The Shawshank Redemption é um filme que eu certamente vou assistir com meu marido. \n",
        "Assim como The Godfather . São filmes populares e têm avaliações boas por pessoas na minha faixa etária.\n",
        "Além disso tem uma boa ditribuição de notas acima de 8.\n"
      ]
    },
    {
      "cell_type": "markdown",
      "metadata": {
        "id": "Z1ZM3tIhB4AB"
      },
      "source": [
        "Como próximo desafio, sugiro encontrar através de apis ou webscrapping se esses filmes estão disponíveis nas plataformas de streaming e em quais."
      ]
    }
  ]
}