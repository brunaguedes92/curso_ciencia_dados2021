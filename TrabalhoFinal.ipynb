{
  "nbformat": 4,
  "nbformat_minor": 0,
  "metadata": {
    "celltoolbar": "Create Assignment",
    "kernelspec": {
      "display_name": "Python 3",
      "language": "python",
      "name": "python3"
    },
    "language_info": {
      "codemirror_mode": {
        "name": "ipython",
        "version": 3
      },
      "file_extension": ".py",
      "mimetype": "text/x-python",
      "name": "python",
      "nbconvert_exporter": "python",
      "pygments_lexer": "ipython3",
      "version": "3.8.3"
    },
    "colab": {
      "name": "TrabalhoFinal.ipynb",
      "provenance": [],
      "collapsed_sections": [],
      "include_colab_link": true
    }
  },
  "cells": [
    {
      "cell_type": "markdown",
      "metadata": {
        "id": "view-in-github",
        "colab_type": "text"
      },
      "source": [
        "<a href=\"https://colab.research.google.com/github/brunaguedes92/curso_ciencia_dados2021/blob/master/TrabalhoFinal.ipynb\" target=\"_parent\"><img src=\"https://colab.research.google.com/assets/colab-badge.svg\" alt=\"Open In Colab\"/></a>"
      ]
    },
    {
      "cell_type": "markdown",
      "metadata": {
        "id": "tV-L-0OPxDtg"
      },
      "source": [
        "## Trabalho Final - Ciência de Dados - Enap / 2021"
      ]
    },
    {
      "cell_type": "markdown",
      "metadata": {
        "id": "jxt46YHgxDtn"
      },
      "source": [
        "### Apresentação do Dataset"
      ]
    },
    {
      "cell_type": "code",
      "metadata": {
        "nbgrader": {
          "grade": true,
          "grade_id": "cell-747db8f94c086679",
          "locked": false,
          "points": 1,
          "schema_version": 3,
          "solution": true,
          "task": false
        },
        "id": "mZmkW1WQxDtn"
      },
      "source": [
        "IMDb é o site de filmes mais popular e combina a descrição do enredo do filme, avaliações e análises de críticos e usuários, datas de lançamento e muitos outros aspectos.\n",
        "\n",
        "O conjunto de dados de filmes(movies) inclui 85.855 filmes com atributos como descrição do filme, avaliação média, número de votos, gênero, etc.\n",
        "\n",
        "O conjunto de dados de classificações(ratings) inclui 85.855 detalhes de classificação do ponto de vista demográfico."
      ],
      "execution_count": null,
      "outputs": []
    },
    {
      "cell_type": "markdown",
      "metadata": {
        "id": "amrkOl0PxDto"
      },
      "source": [
        "#### Link para Download do Dataset"
      ]
    },
    {
      "cell_type": "code",
      "metadata": {
        "id": "J-y2u-M2xDto"
      },
      "source": [
        "https://www.kaggle.com/stefanoleone992/imdb-extensive-dataset"
      ],
      "execution_count": null,
      "outputs": []
    },
    {
      "cell_type": "markdown",
      "metadata": {
        "id": "vk3PATjCxDtp"
      },
      "source": [
        "### Motivação Pessoal"
      ]
    },
    {
      "cell_type": "code",
      "metadata": {
        "nbgrader": {
          "grade": true,
          "grade_id": "cell-78e97c9cbf087543",
          "locked": false,
          "points": 1,
          "schema_version": 3,
          "solution": true,
          "task": false
        },
        "id": "ovzNxUU_xDtp"
      },
      "source": [
        "Descobrir filmes que eu possa gostar, baseado nas investigações de avaliações e características, e ter momentos de lazer agradável em casa, sobretudo nesses tempos de pandemia."
      ],
      "execution_count": null,
      "outputs": []
    },
    {
      "cell_type": "markdown",
      "metadata": {
        "id": "EE-kpJRSxDtp"
      },
      "source": [
        "### Investigação"
      ]
    },
    {
      "cell_type": "code",
      "metadata": {
        "nbgrader": {
          "grade": true,
          "grade_id": "cell-4727d55417ba9b09",
          "locked": false,
          "points": 1,
          "schema_version": 3,
          "solution": true,
          "task": false
        },
        "id": "5bpoT-fcxDtq"
      },
      "source": [
        "import pandas as pd\n",
        "import numpy as np\n",
        "import matplotlib.pyplot as plt # Biblioteca para plotar gráficos\n",
        "import seaborn as sns # Biblioteca para plotar gráficos baseada no matplotlib"
      ],
      "execution_count": 2,
      "outputs": []
    },
    {
      "cell_type": "code",
      "metadata": {
        "colab": {
          "base_uri": "https://localhost:8080/",
          "height": 253
        },
        "id": "bO_uFtHxxDtq",
        "outputId": "1b6ce592-01f7-4f62-8680-44623d082704"
      },
      "source": [
        "df_movies = pd.read_csv('https://raw.githubusercontent.com/brunaguedes92/curso_ciencia_dados2021/master/data/originais/imdb/IMDb_movies.csv', encoding='UTF-8')\n",
        "df_ratings = pd.read_csv('https://raw.githubusercontent.com/brunaguedes92/curso_ciencia_dados2021/master/data/originais/imdb/IMDb_ratings.csv', encoding='UTF-8')\n",
        "df_movies_ratings = pd.merge(df_movies, df_ratings, on=['imdb_title_id'])\n",
        "df_ratings.head()\n",
        "# df_movies_ratings.corr()"
      ],
      "execution_count": 3,
      "outputs": [
        {
          "output_type": "stream",
          "text": [
            "/usr/local/lib/python3.7/dist-packages/IPython/core/interactiveshell.py:2718: DtypeWarning: Columns (3) have mixed types.Specify dtype option on import or set low_memory=False.\n",
            "  interactivity=interactivity, compiler=compiler, result=result)\n"
          ],
          "name": "stderr"
        },
        {
          "output_type": "execute_result",
          "data": {
            "text/html": [
              "<div>\n",
              "<style scoped>\n",
              "    .dataframe tbody tr th:only-of-type {\n",
              "        vertical-align: middle;\n",
              "    }\n",
              "\n",
              "    .dataframe tbody tr th {\n",
              "        vertical-align: top;\n",
              "    }\n",
              "\n",
              "    .dataframe thead th {\n",
              "        text-align: right;\n",
              "    }\n",
              "</style>\n",
              "<table border=\"1\" class=\"dataframe\">\n",
              "  <thead>\n",
              "    <tr style=\"text-align: right;\">\n",
              "      <th></th>\n",
              "      <th>imdb_title_id</th>\n",
              "      <th>weighted_average_vote</th>\n",
              "      <th>total_votes</th>\n",
              "      <th>mean_vote</th>\n",
              "      <th>median_vote</th>\n",
              "      <th>votes_10</th>\n",
              "      <th>votes_9</th>\n",
              "      <th>votes_8</th>\n",
              "      <th>votes_7</th>\n",
              "      <th>votes_6</th>\n",
              "      <th>votes_5</th>\n",
              "      <th>votes_4</th>\n",
              "      <th>votes_3</th>\n",
              "      <th>votes_2</th>\n",
              "      <th>votes_1</th>\n",
              "      <th>allgenders_0age_avg_vote</th>\n",
              "      <th>allgenders_0age_votes</th>\n",
              "      <th>allgenders_18age_avg_vote</th>\n",
              "      <th>allgenders_18age_votes</th>\n",
              "      <th>allgenders_30age_avg_vote</th>\n",
              "      <th>allgenders_30age_votes</th>\n",
              "      <th>allgenders_45age_avg_vote</th>\n",
              "      <th>allgenders_45age_votes</th>\n",
              "      <th>males_allages_avg_vote</th>\n",
              "      <th>males_allages_votes</th>\n",
              "      <th>males_0age_avg_vote</th>\n",
              "      <th>males_0age_votes</th>\n",
              "      <th>males_18age_avg_vote</th>\n",
              "      <th>males_18age_votes</th>\n",
              "      <th>males_30age_avg_vote</th>\n",
              "      <th>males_30age_votes</th>\n",
              "      <th>males_45age_avg_vote</th>\n",
              "      <th>males_45age_votes</th>\n",
              "      <th>females_allages_avg_vote</th>\n",
              "      <th>females_allages_votes</th>\n",
              "      <th>females_0age_avg_vote</th>\n",
              "      <th>females_0age_votes</th>\n",
              "      <th>females_18age_avg_vote</th>\n",
              "      <th>females_18age_votes</th>\n",
              "      <th>females_30age_avg_vote</th>\n",
              "      <th>females_30age_votes</th>\n",
              "      <th>females_45age_avg_vote</th>\n",
              "      <th>females_45age_votes</th>\n",
              "      <th>top1000_voters_rating</th>\n",
              "      <th>top1000_voters_votes</th>\n",
              "      <th>us_voters_rating</th>\n",
              "      <th>us_voters_votes</th>\n",
              "      <th>non_us_voters_rating</th>\n",
              "      <th>non_us_voters_votes</th>\n",
              "    </tr>\n",
              "  </thead>\n",
              "  <tbody>\n",
              "    <tr>\n",
              "      <th>0</th>\n",
              "      <td>tt0000009</td>\n",
              "      <td>5.9</td>\n",
              "      <td>154</td>\n",
              "      <td>5.9</td>\n",
              "      <td>6.0</td>\n",
              "      <td>12</td>\n",
              "      <td>4</td>\n",
              "      <td>10</td>\n",
              "      <td>43</td>\n",
              "      <td>28</td>\n",
              "      <td>28</td>\n",
              "      <td>9</td>\n",
              "      <td>1</td>\n",
              "      <td>5</td>\n",
              "      <td>14</td>\n",
              "      <td>7.2</td>\n",
              "      <td>4.0</td>\n",
              "      <td>6.0</td>\n",
              "      <td>38.0</td>\n",
              "      <td>5.7</td>\n",
              "      <td>50.0</td>\n",
              "      <td>6.6</td>\n",
              "      <td>35.0</td>\n",
              "      <td>6.2</td>\n",
              "      <td>97.0</td>\n",
              "      <td>7.0</td>\n",
              "      <td>1.0</td>\n",
              "      <td>5.9</td>\n",
              "      <td>24.0</td>\n",
              "      <td>5.6</td>\n",
              "      <td>36.0</td>\n",
              "      <td>6.7</td>\n",
              "      <td>31.0</td>\n",
              "      <td>6.0</td>\n",
              "      <td>35.0</td>\n",
              "      <td>7.3</td>\n",
              "      <td>3.0</td>\n",
              "      <td>5.9</td>\n",
              "      <td>14.0</td>\n",
              "      <td>5.7</td>\n",
              "      <td>13.0</td>\n",
              "      <td>4.5</td>\n",
              "      <td>4.0</td>\n",
              "      <td>5.7</td>\n",
              "      <td>34.0</td>\n",
              "      <td>6.4</td>\n",
              "      <td>51.0</td>\n",
              "      <td>6.0</td>\n",
              "      <td>70.0</td>\n",
              "    </tr>\n",
              "    <tr>\n",
              "      <th>1</th>\n",
              "      <td>tt0000574</td>\n",
              "      <td>6.1</td>\n",
              "      <td>589</td>\n",
              "      <td>6.3</td>\n",
              "      <td>6.0</td>\n",
              "      <td>57</td>\n",
              "      <td>18</td>\n",
              "      <td>58</td>\n",
              "      <td>137</td>\n",
              "      <td>139</td>\n",
              "      <td>103</td>\n",
              "      <td>28</td>\n",
              "      <td>20</td>\n",
              "      <td>13</td>\n",
              "      <td>16</td>\n",
              "      <td>6.0</td>\n",
              "      <td>1.0</td>\n",
              "      <td>6.1</td>\n",
              "      <td>114.0</td>\n",
              "      <td>6.0</td>\n",
              "      <td>239.0</td>\n",
              "      <td>6.3</td>\n",
              "      <td>115.0</td>\n",
              "      <td>6.1</td>\n",
              "      <td>425.0</td>\n",
              "      <td>6.0</td>\n",
              "      <td>1.0</td>\n",
              "      <td>6.2</td>\n",
              "      <td>102.0</td>\n",
              "      <td>6.0</td>\n",
              "      <td>210.0</td>\n",
              "      <td>6.2</td>\n",
              "      <td>100.0</td>\n",
              "      <td>6.2</td>\n",
              "      <td>50.0</td>\n",
              "      <td>NaN</td>\n",
              "      <td>NaN</td>\n",
              "      <td>5.9</td>\n",
              "      <td>12.0</td>\n",
              "      <td>6.2</td>\n",
              "      <td>23.0</td>\n",
              "      <td>6.6</td>\n",
              "      <td>14.0</td>\n",
              "      <td>6.4</td>\n",
              "      <td>66.0</td>\n",
              "      <td>6.0</td>\n",
              "      <td>96.0</td>\n",
              "      <td>6.2</td>\n",
              "      <td>331.0</td>\n",
              "    </tr>\n",
              "    <tr>\n",
              "      <th>2</th>\n",
              "      <td>tt0001892</td>\n",
              "      <td>5.8</td>\n",
              "      <td>188</td>\n",
              "      <td>6.0</td>\n",
              "      <td>6.0</td>\n",
              "      <td>6</td>\n",
              "      <td>6</td>\n",
              "      <td>17</td>\n",
              "      <td>44</td>\n",
              "      <td>52</td>\n",
              "      <td>32</td>\n",
              "      <td>16</td>\n",
              "      <td>5</td>\n",
              "      <td>6</td>\n",
              "      <td>4</td>\n",
              "      <td>NaN</td>\n",
              "      <td>NaN</td>\n",
              "      <td>5.5</td>\n",
              "      <td>25.0</td>\n",
              "      <td>5.8</td>\n",
              "      <td>72.0</td>\n",
              "      <td>6.2</td>\n",
              "      <td>62.0</td>\n",
              "      <td>5.9</td>\n",
              "      <td>146.0</td>\n",
              "      <td>NaN</td>\n",
              "      <td>NaN</td>\n",
              "      <td>5.5</td>\n",
              "      <td>21.0</td>\n",
              "      <td>5.9</td>\n",
              "      <td>67.0</td>\n",
              "      <td>6.2</td>\n",
              "      <td>55.0</td>\n",
              "      <td>5.7</td>\n",
              "      <td>15.0</td>\n",
              "      <td>NaN</td>\n",
              "      <td>NaN</td>\n",
              "      <td>5.8</td>\n",
              "      <td>4.0</td>\n",
              "      <td>5.8</td>\n",
              "      <td>4.0</td>\n",
              "      <td>6.8</td>\n",
              "      <td>7.0</td>\n",
              "      <td>5.4</td>\n",
              "      <td>32.0</td>\n",
              "      <td>6.2</td>\n",
              "      <td>31.0</td>\n",
              "      <td>5.9</td>\n",
              "      <td>123.0</td>\n",
              "    </tr>\n",
              "    <tr>\n",
              "      <th>3</th>\n",
              "      <td>tt0002101</td>\n",
              "      <td>5.2</td>\n",
              "      <td>446</td>\n",
              "      <td>5.3</td>\n",
              "      <td>5.0</td>\n",
              "      <td>15</td>\n",
              "      <td>8</td>\n",
              "      <td>16</td>\n",
              "      <td>62</td>\n",
              "      <td>98</td>\n",
              "      <td>117</td>\n",
              "      <td>63</td>\n",
              "      <td>26</td>\n",
              "      <td>25</td>\n",
              "      <td>16</td>\n",
              "      <td>NaN</td>\n",
              "      <td>NaN</td>\n",
              "      <td>5.3</td>\n",
              "      <td>23.0</td>\n",
              "      <td>5.0</td>\n",
              "      <td>111.0</td>\n",
              "      <td>5.3</td>\n",
              "      <td>193.0</td>\n",
              "      <td>5.1</td>\n",
              "      <td>299.0</td>\n",
              "      <td>NaN</td>\n",
              "      <td>NaN</td>\n",
              "      <td>5.2</td>\n",
              "      <td>20.0</td>\n",
              "      <td>4.9</td>\n",
              "      <td>96.0</td>\n",
              "      <td>5.2</td>\n",
              "      <td>171.0</td>\n",
              "      <td>5.9</td>\n",
              "      <td>39.0</td>\n",
              "      <td>NaN</td>\n",
              "      <td>NaN</td>\n",
              "      <td>5.7</td>\n",
              "      <td>3.0</td>\n",
              "      <td>5.5</td>\n",
              "      <td>14.0</td>\n",
              "      <td>6.1</td>\n",
              "      <td>21.0</td>\n",
              "      <td>4.9</td>\n",
              "      <td>57.0</td>\n",
              "      <td>5.5</td>\n",
              "      <td>207.0</td>\n",
              "      <td>4.7</td>\n",
              "      <td>105.0</td>\n",
              "    </tr>\n",
              "    <tr>\n",
              "      <th>4</th>\n",
              "      <td>tt0002130</td>\n",
              "      <td>7.0</td>\n",
              "      <td>2237</td>\n",
              "      <td>6.9</td>\n",
              "      <td>7.0</td>\n",
              "      <td>210</td>\n",
              "      <td>225</td>\n",
              "      <td>436</td>\n",
              "      <td>641</td>\n",
              "      <td>344</td>\n",
              "      <td>169</td>\n",
              "      <td>66</td>\n",
              "      <td>39</td>\n",
              "      <td>20</td>\n",
              "      <td>87</td>\n",
              "      <td>7.5</td>\n",
              "      <td>4.0</td>\n",
              "      <td>7.0</td>\n",
              "      <td>402.0</td>\n",
              "      <td>7.0</td>\n",
              "      <td>895.0</td>\n",
              "      <td>7.1</td>\n",
              "      <td>482.0</td>\n",
              "      <td>7.0</td>\n",
              "      <td>1607.0</td>\n",
              "      <td>8.0</td>\n",
              "      <td>2.0</td>\n",
              "      <td>7.0</td>\n",
              "      <td>346.0</td>\n",
              "      <td>7.0</td>\n",
              "      <td>804.0</td>\n",
              "      <td>7.0</td>\n",
              "      <td>396.0</td>\n",
              "      <td>7.2</td>\n",
              "      <td>215.0</td>\n",
              "      <td>7.0</td>\n",
              "      <td>2.0</td>\n",
              "      <td>7.0</td>\n",
              "      <td>52.0</td>\n",
              "      <td>7.3</td>\n",
              "      <td>82.0</td>\n",
              "      <td>7.4</td>\n",
              "      <td>77.0</td>\n",
              "      <td>6.9</td>\n",
              "      <td>139.0</td>\n",
              "      <td>7.0</td>\n",
              "      <td>488.0</td>\n",
              "      <td>7.0</td>\n",
              "      <td>1166.0</td>\n",
              "    </tr>\n",
              "  </tbody>\n",
              "</table>\n",
              "</div>"
            ],
            "text/plain": [
              "  imdb_title_id  ...  non_us_voters_votes\n",
              "0     tt0000009  ...                 70.0\n",
              "1     tt0000574  ...                331.0\n",
              "2     tt0001892  ...                123.0\n",
              "3     tt0002101  ...                105.0\n",
              "4     tt0002130  ...               1166.0\n",
              "\n",
              "[5 rows x 49 columns]"
            ]
          },
          "metadata": {
            "tags": []
          },
          "execution_count": 3
        }
      ]
    },
    {
      "cell_type": "code",
      "metadata": {
        "id": "rAmDzcs8xDtq"
      },
      "source": [
        ""
      ],
      "execution_count": null,
      "outputs": []
    },
    {
      "cell_type": "code",
      "metadata": {
        "id": "YKeKm1uhxDtq"
      },
      "source": [
        ""
      ],
      "execution_count": null,
      "outputs": []
    },
    {
      "cell_type": "code",
      "metadata": {
        "id": "Yqo5TPg8xDtr"
      },
      "source": [
        ""
      ],
      "execution_count": null,
      "outputs": []
    },
    {
      "cell_type": "code",
      "metadata": {
        "id": "04hIsJvOxDtr"
      },
      "source": [
        ""
      ],
      "execution_count": null,
      "outputs": []
    },
    {
      "cell_type": "code",
      "metadata": {
        "id": "yn_kUHlOxDtr"
      },
      "source": [
        ""
      ],
      "execution_count": null,
      "outputs": []
    },
    {
      "cell_type": "code",
      "metadata": {
        "id": "lbYx_PEAxDtr"
      },
      "source": [
        ""
      ],
      "execution_count": null,
      "outputs": []
    },
    {
      "cell_type": "code",
      "metadata": {
        "id": "4uQuKgxexDtr"
      },
      "source": [
        ""
      ],
      "execution_count": null,
      "outputs": []
    },
    {
      "cell_type": "markdown",
      "metadata": {
        "id": "pvL1J_8HxDts"
      },
      "source": [
        "### Conclusões e Achados"
      ]
    },
    {
      "cell_type": "code",
      "metadata": {
        "nbgrader": {
          "grade": true,
          "grade_id": "cell-06eb20edabcbb6c1",
          "locked": false,
          "points": 1,
          "schema_version": 3,
          "solution": true,
          "task": false
        },
        "id": "I-Xi88gaxDts"
      },
      "source": [
        ""
      ],
      "execution_count": null,
      "outputs": []
    },
    {
      "cell_type": "code",
      "metadata": {
        "id": "m-zquBLdxDts"
      },
      "source": [
        ""
      ],
      "execution_count": null,
      "outputs": []
    },
    {
      "cell_type": "code",
      "metadata": {
        "id": "kTHMK5KMxDts"
      },
      "source": [
        ""
      ],
      "execution_count": null,
      "outputs": []
    },
    {
      "cell_type": "code",
      "metadata": {
        "id": "RjvGtG9txDtt"
      },
      "source": [
        ""
      ],
      "execution_count": null,
      "outputs": []
    },
    {
      "cell_type": "code",
      "metadata": {
        "id": "_b_9elcaxDtt"
      },
      "source": [
        ""
      ],
      "execution_count": null,
      "outputs": []
    },
    {
      "cell_type": "code",
      "metadata": {
        "id": "tOXt0c5IxDtt"
      },
      "source": [
        ""
      ],
      "execution_count": null,
      "outputs": []
    },
    {
      "cell_type": "code",
      "metadata": {
        "id": "Y6-GbXkAxDtt"
      },
      "source": [
        ""
      ],
      "execution_count": null,
      "outputs": []
    }
  ]
}